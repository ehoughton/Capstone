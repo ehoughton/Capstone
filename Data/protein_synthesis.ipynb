{
 "cells": [
  {
   "cell_type": "code",
   "execution_count": 39,
   "metadata": {},
   "outputs": [],
   "source": [
    "import pandas as pd\n",
    "import matplotlib as plt"
   ]
  },
  {
   "cell_type": "markdown",
   "metadata": {},
   "source": [
    "# BRITE REU Python Workshop\n",
    "### Instructor: Dakota Hawkins\n",
    "\n",
    "\n",
    "## Overview\n",
    "\n",
    "Protein synthesis generally follows what has been termed \"The Central\n",
    "Dogma of Molecular Biology.\" That is that DNA codes RNA where RNA then\n",
    "makes protein. Here is a useful source if you need a quick refresher\n",
    "(https://www.nature.com/scitable/topicpage/translation-dna-to-mrna-to-protein-393).\n",
    "In today's workshop we will be writing a small Python script to simulate\n",
    "this process by reading a DNA sequence from a FASTA file, transcribing\n",
    "the sequence to mRNA, translating the computed mRNA strand to amino\n",
    "acids, and finally writing the protein sequence to another FASTA file.\n",
    "This workshop is intended to synthesise the information we learned in\n",
    "the Python.\n",
    "\n",
    "For this workshop you will be working with a partner in small teams. The\n",
    "groups will be used as a means to facilitate discussion (e.g. \"How can\n",
    "we structure this function?\"), while you and your partner will help each\n",
    "other implement the code. Partners should choose a single computer to\n",
    "write the code with. While a single person will be \"driving\" at a time,\n",
    "both partners are expected to converse and contribute. Likewise, no one\n",
    "person should be driving for the entire workshop: make sure to switch\n",
    "semi-regularly to ensure each person is getting the same out of the\n",
    "workshop. Please ensure each partner has a working copy of the completed\n",
    "Jupyter Notebook after the workshop is complete.\n",
    "\n",
    "This notebook includes skeleton methods for all of the different Python\n",
    "functions we'll need: **``read_fasta()``**, **``write_fastsa()``**,\n",
    "**``read_codon_table()``**, **``transcribe()``**, **``translate()``**,\n",
    "and **``main()``**. While these functions *should* encompass all of the\n",
    "functions we'll need, feel free to write your own helper functions if\n",
    "you deem it necessary. Similarly, if you'd rather eskew the structure I\n",
    "provided -- whether combining previously separated functions, changing\n",
    "passed arguments, etc. -- feel free to do so. The only requirement is\n",
    "both partners are onboard with the change and the final product produces\n",
    "the same output. The skeleton code is mainly used to provide a starting\n",
    "structure so the code is easier to jump into.\n",
    "### Helpful Tips\n",
    "\n",
    "1. The **``re``** python module contains a **``sub``** method to perform\n",
    "   regular expression substitution. Likewise, the base string method\n",
    "   **``replace``** can replace substrings in a parent string with another\n",
    "   provided substring. \n",
    "\n",
    "2. FASTA files are text files with standardized format for storing\n",
    "   biological sequence. Generally, the first line in FASTA files is a\n",
    "   description demarked by **``>``** (or less frequently **``;``**) as\n",
    "   the first character. The next lines contain the actual biological\n",
    "   sequence. Generally each line is either 60 or 70 characters long\n",
    "   before a line break. An example FASTA file (``human_notch.fasta``)\n",
    "   has been included. For more information:\n",
    "   https://blast.ncbi.nlm.nih.gov/Blast.cgi?CMD=Web&PAGE\\_TYPE=BlastDocs&DOC\\_TYPE=BlastHelp\n",
    "\n",
    "\n",
    "\n",
    "### Read FASTA Files:"
   ]
  },
  {
   "cell_type": "code",
   "execution_count": 16,
   "metadata": {},
   "outputs": [],
   "source": [
    "def read_fasta(sequence):\n",
    "    \"\"\"\n",
    "    Retrieve a DNA or protein sequence data from a FASTA file.\n",
    "\n",
    "    Arguments:\n",
    "        fasta_file (string): path to FASTA file.\n",
    "    Returns:\n",
    "        (string): DNA or protein sequence found in `fasta_file`.\n",
    "    \"\"\"\n",
    "    return('')"
   ]
  },
  {
   "cell_type": "code",
   "execution_count": 49,
   "metadata": {},
   "outputs": [
    {
     "ename": "NameError",
     "evalue": "name 'f' is not defined",
     "output_type": "error",
     "traceback": [
      "\u001b[1;31m---------------------------------------------------------------------------\u001b[0m",
      "\u001b[1;31mNameError\u001b[0m                                 Traceback (most recent call last)",
      "\u001b[1;32m<ipython-input-49-a03e110864e1>\u001b[0m in \u001b[0;36m<module>\u001b[1;34m\u001b[0m\n\u001b[0;32m      1\u001b[0m \u001b[1;32mwith\u001b[0m \u001b[0mopen\u001b[0m\u001b[1;33m(\u001b[0m\u001b[1;34m'sequence.fasta'\u001b[0m\u001b[1;33m,\u001b[0m \u001b[1;34m'r'\u001b[0m\u001b[1;33m)\u001b[0m \u001b[1;32mas\u001b[0m \u001b[0mfastafile\u001b[0m\u001b[1;33m:\u001b[0m\u001b[1;33m\u001b[0m\u001b[1;33m\u001b[0m\u001b[0m\n\u001b[0;32m      2\u001b[0m     \u001b[0msequence\u001b[0m \u001b[1;33m=\u001b[0m \u001b[0mfastafile\u001b[0m\u001b[1;33m.\u001b[0m\u001b[0mread\u001b[0m\u001b[1;33m(\u001b[0m\u001b[1;33m)\u001b[0m\u001b[1;33m\u001b[0m\u001b[1;33m\u001b[0m\u001b[0m\n\u001b[1;32m----> 3\u001b[1;33m     \u001b[0mcontent\u001b[0m \u001b[1;33m=\u001b[0m \u001b[0mf\u001b[0m\u001b[1;33m.\u001b[0m\u001b[0mreadlines\u001b[0m\u001b[1;33m(\u001b[0m\u001b[1;33m)\u001b[0m\u001b[1;33m[\u001b[0m\u001b[1;36m1\u001b[0m\u001b[1;33m:\u001b[0m\u001b[1;33m]\u001b[0m\u001b[1;33m\u001b[0m\u001b[1;33m\u001b[0m\u001b[0m\n\u001b[0m\u001b[0;32m      4\u001b[0m \u001b[0moutput\u001b[0m\u001b[1;33m=\u001b[0m\u001b[1;34m\"\"\u001b[0m\u001b[1;33m.\u001b[0m\u001b[0mjoin\u001b[0m\u001b[1;33m(\u001b[0m\u001b[0mcontent\u001b[0m\u001b[1;33m)\u001b[0m\u001b[1;33m\u001b[0m\u001b[1;33m\u001b[0m\u001b[0m\n",
      "\u001b[1;31mNameError\u001b[0m: name 'f' is not defined"
     ]
    }
   ],
   "source": [
    "with open('sequence.fasta', 'r') as fastafile: \n",
    "    sequence = fastafile.read()\n",
    "    content = f.readlines()[1:]\n",
    "output=\"\".join(content)"
   ]
  },
  {
   "cell_type": "code",
   "execution_count": 35,
   "metadata": {},
   "outputs": [
    {
     "data": {
      "text/plain": [
       "117.0"
      ]
     },
     "execution_count": 35,
     "metadata": {},
     "output_type": "execute_result"
    }
   ],
   "source": [
    "(len(sequence) - len(sequence.replace('CGG', ''))) / 3"
   ]
  },
  {
   "cell_type": "code",
   "execution_count": 36,
   "metadata": {},
   "outputs": [
    {
     "data": {
      "text/plain": [
       "39858"
      ]
     },
     "execution_count": 36,
     "metadata": {},
     "output_type": "execute_result"
    }
   ],
   "source": [
    "len(sequence)"
   ]
  },
  {
   "cell_type": "code",
   "execution_count": 27,
   "metadata": {},
   "outputs": [
    {
     "data": {
      "text/plain": [
       "''"
      ]
     },
     "execution_count": 27,
     "metadata": {},
     "output_type": "execute_result"
    }
   ],
   "source": [
    "read_fasta('sequence.fasta')"
   ]
  },
  {
   "cell_type": "code",
   "execution_count": 43,
   "metadata": {},
   "outputs": [
    {
     "ename": "TypeError",
     "evalue": "'module' object is not callable",
     "output_type": "error",
     "traceback": [
      "\u001b[1;31m---------------------------------------------------------------------------\u001b[0m",
      "\u001b[1;31mTypeError\u001b[0m                                 Traceback (most recent call last)",
      "\u001b[1;32m<ipython-input-43-593a5ff123aa>\u001b[0m in \u001b[0;36m<module>\u001b[1;34m\u001b[0m\n\u001b[1;32m----> 1\u001b[1;33m \u001b[0mplt\u001b[0m\u001b[1;33m(\u001b[0m\u001b[0msequence\u001b[0m\u001b[1;33m)\u001b[0m\u001b[1;33m\u001b[0m\u001b[1;33m\u001b[0m\u001b[0m\n\u001b[0m",
      "\u001b[1;31mTypeError\u001b[0m: 'module' object is not callable"
     ]
    }
   ],
   "source": [
    "plt(sequence)"
   ]
  },
  {
   "cell_type": "code",
   "execution_count": 45,
   "metadata": {},
   "outputs": [],
   "source": [
    "seqcount = set(sequence)"
   ]
  },
  {
   "cell_type": "code",
   "execution_count": 46,
   "metadata": {},
   "outputs": [],
   "source": [
    "number_of_unique = len(seqcount)"
   ]
  },
  {
   "cell_type": "code",
   "execution_count": 47,
   "metadata": {},
   "outputs": [
    {
     "name": "stdout",
     "output_type": "stream",
     "text": [
      "40\n"
     ]
    }
   ],
   "source": [
    "print(number_of_unique)"
   ]
  },
  {
   "cell_type": "code",
   "execution_count": null,
   "metadata": {},
   "outputs": [],
   "source": []
  },
  {
   "cell_type": "code",
   "execution_count": null,
   "metadata": {},
   "outputs": [],
   "source": []
  },
  {
   "cell_type": "code",
   "execution_count": null,
   "metadata": {},
   "outputs": [],
   "source": []
  },
  {
   "cell_type": "code",
   "execution_count": null,
   "metadata": {},
   "outputs": [],
   "source": []
  },
  {
   "cell_type": "code",
   "execution_count": null,
   "metadata": {},
   "outputs": [],
   "source": []
  },
  {
   "cell_type": "markdown",
   "metadata": {},
   "source": [
    "### Write FASTA Files:"
   ]
  },
  {
   "cell_type": "code",
   "execution_count": 19,
   "metadata": {},
   "outputs": [],
   "source": [
    "def write_fasta(sequence, output_file, desc=''):\n",
    "    \"\"\"\n",
    "    Write a DNA or protein sequence to a FASTA file.\n",
    "\n",
    "    Arguments:\n",
    "        sequence (string): sequence to write to file.\n",
    "        output_file (string): path designating where to write the sequence.\n",
    "        desc (string, optional): description of sequence. Default is empty.\n",
    "    Returns:\n",
    "        None.\n",
    "    \"\"\"\n",
    "    return(None)"
   ]
  },
  {
   "cell_type": "code",
   "execution_count": 22,
   "metadata": {},
   "outputs": [],
   "source": [
    "write_fasta(sequence, '', )"
   ]
  },
  {
   "cell_type": "markdown",
   "metadata": {},
   "source": [
    "### Read `codon_table.csv`:"
   ]
  },
  {
   "cell_type": "code",
   "execution_count": 23,
   "metadata": {},
   "outputs": [],
   "source": [
    "def read_codon_table(codon_table='codon_table.csv'):\n",
    "    \"\"\"\n",
    "    Create a dictionary that maps RNA codons to amino acids.\n",
    "\n",
    "    Constructs dictionary by reading a .csv file containing codon to amino\n",
    "    acid mappings.\n",
    "\n",
    "    Arguments:\n",
    "        codon_table (string, optional): path to the .csv file containing codon\n",
    "            to amino acid mappings. Assumed column structure is 'Codon',\n",
    "            'Amino Acid Abbreviation', 'Amino Acid Code', and 'Amino Acid Name'.\n",
    "            Default is 'codon_table.csv'\n",
    "    Returns:\n",
    "        (dictionary, string:string): dictionary with codons as keys and amino acid codes\n",
    "            as values.\n",
    "    \"\"\"\n",
    "    return({'': ''})"
   ]
  },
  {
   "cell_type": "code",
   "execution_count": 24,
   "metadata": {},
   "outputs": [],
   "source": [
    "codons = read_codon_table('codon_table.csv')"
   ]
  },
  {
   "cell_type": "code",
   "execution_count": 26,
   "metadata": {},
   "outputs": [
    {
     "data": {
      "text/plain": [
       "{'': ''}"
      ]
     },
     "execution_count": 26,
     "metadata": {},
     "output_type": "execute_result"
    }
   ],
   "source": [
    "codons"
   ]
  },
  {
   "cell_type": "markdown",
   "metadata": {},
   "source": [
    "### Transcribe DNA to RNA:"
   ]
  },
  {
   "cell_type": "code",
   "execution_count": 4,
   "metadata": {},
   "outputs": [],
   "source": [
    "def transcribe(dna_seq, strand='-'):\n",
    "    \"\"\"\n",
    "    Transcribe a DNA sequence to an RNA sequence.\n",
    "\n",
    "    Arguments:\n",
    "        dna_seq (string): DNA sequence to transcribe to RNA.\n",
    "        strand (string, optional): which strand of DNA the sequence is\n",
    "            derived from. The symbol '+' denotes forward/template strand\n",
    "            while '-' denotes reverse/coding strand. Default is '-'.\n",
    "            Regardless of strand, the sequence is assumed to be oriented\n",
    "            5' to 3'.\n",
    "    Returns:\n",
    "        (string): transcribed RNA sequence from `dna_seq`.\n",
    "    \"\"\"\n",
    "\n",
    "    return('')"
   ]
  },
  {
   "cell_type": "code",
   "execution_count": 28,
   "metadata": {},
   "outputs": [
    {
     "data": {
      "text/plain": [
       "''"
      ]
     },
     "execution_count": 28,
     "metadata": {},
     "output_type": "execute_result"
    }
   ],
   "source": [
    "transcribe(sequence, strand='-')"
   ]
  },
  {
   "cell_type": "markdown",
   "metadata": {},
   "source": [
    "### Translate RNA to Protein:"
   ]
  },
  {
   "cell_type": "code",
   "execution_count": 5,
   "metadata": {},
   "outputs": [],
   "source": [
    "def translate(rna_seq, codon_to_amino):\n",
    "    \"\"\"\n",
    "    Translate an RNA sequence to an amino acid sequence.\n",
    "\n",
    "    Arguments:\n",
    "        rna_seq (string): RNA sequence to translate to amino acid sequence.\n",
    "        codon_to_amino (dict string:string): mapping of three-nuceleotide-long codons to\n",
    "            amino acid codes.\n",
    "    Returns:\n",
    "        (string): amino acid sequence of translated `rna_seq` codons.\n",
    "    \"\"\"\n",
    "\n",
    "    return('')"
   ]
  },
  {
   "cell_type": "markdown",
   "metadata": {},
   "source": [
    "### Tie the Steps Together:"
   ]
  },
  {
   "cell_type": "code",
   "execution_count": 6,
   "metadata": {},
   "outputs": [],
   "source": [
    "def main(dna_seq, output_fasta):\n",
    "    \"\"\"\n",
    "    Return the first protein synthesized by a DNA sequence.\n",
    "\n",
    "    Arguments:\n",
    "        dna_seq (string): DNA sequence to parse.\n",
    "        output_fasta (string): fasta file to write translated amino acid sequence to.\n",
    "    Returns:\n",
    "        None.\n",
    "    \"\"\"\n",
    "    \n",
    "    return(None)"
   ]
  },
  {
   "cell_type": "markdown",
   "metadata": {},
   "source": [
    "## If You Finish Early\n",
    "\n",
    "\n",
    "If you finish early, here are some suggestions to extend the\n",
    "functionality of your script:\n",
    "\n",
    "-  **Multiple Reading Frames**: A reading frame is the sliding window in which\n",
    "   nucleotide triplets are considered codons. A reading frame is defined by the\n",
    "   first start codon discovered. That is, prior to a start codon, nucleotides\n",
    "   are scanned by incrementing a single nucleotide each time. After a start\n",
    "   codon is discovered, nucleotide positions are incremented by three (i.e. the\n",
    "   length of a codon). This +3 incrementation is considered the reading frame.\n",
    "   An open reading frame (ORF) occurs when a reading frame, beginning at a start\n",
    "   codon, also encompasses a stop codon. An ORF represents a genomic region that\n",
    "   is able to code for a complete protein. It is possible a single genomic\n",
    "   sequence contains multiple ORFs. Modify your code to 1. find all open reading\n",
    "   frames in a given genomic sequence, and 2. return the amino acid sequences\n",
    "   associated with each ORF. \n",
    "\n",
    "-  **System Arguments**: Using the **``sys``** Python module it is\n",
    "   possible to access command-line arguments passed by a user.\n",
    "   Specifically, the **``sys.argv``** variable stores user-passed\n",
    "   information. Implement command line functionality that takes a\n",
    "   user-provided FASTA file, converts the DNA sequence to amino acids,\n",
    "   and outputs to another user-provided FASTA file.\n",
    "\n",
    "-  **Defensive Programming**: When you're creating a program, usually\n",
    "   you have a pretty good idea of its use and how it works. However,\n",
    "   sometimes we're not the only ones using our programs. Therefore, it's\n",
    "   a good idea to protect against user and input error. For example,\n",
    "   what happens if non-recoganized letters, whitespace, or special\n",
    "   characters (**``*``**, **``-``**) are included in the input sequence?\n",
    "   Ensure your program is able to handle these, but remember some\n",
    "   characters may have special meanings.\n",
    "\n",
    "-  **Calculating Statistics**: Higher GC content in genomic regions is\n",
    "   related to many important biological functions such as protein\n",
    "   coding. Discuss with your partner the best way to measure the GC\n",
    "   content of a DNA sequence. Once you've agreed on the best way,\n",
    "   implement a function that will calculate the percentage along a\n",
    "   provided sequence. Using the Python module **``matplotlib``**, the\n",
    "   output of this function to visualize how the measure changes along\n",
    "   the sequence. In order to easily identify areas of high and low GC\n",
    "   content, make sure to include a line that plots the mean level\n",
    "   accross sequence.\n",
    "\n",
    "-  **Simulating Single Nucleotide Polymorphisms**: Single nucleotide\n",
    "   polymorphisms (SNPs) are single-point mutations that change the\n",
    "   nucleotide of a single base in a strand of DNA. SNPs are incredibly\n",
    "   important in genome-wide association studies (GWAS) that look to\n",
    "   infer the relationship between specific genotypes and phenotypic\n",
    "   outcomes such as disease status. Using a numerical library, such as\n",
    "   **numpy/scipy**, create a function to randomly select a base for\n",
    "   mutation. Apply some function that determines the identity of the\n",
    "   newly mutated base. How biologically reasonable is your model? What\n",
    "   biological phenomena should we consider to create an accurate\n",
    "   simulation?\n",
    "\n",
    "For some exercises, you will likely need to look for, and read, library\n",
    "specific documentation in order to implement the functions. This alone\n",
    "is a helpful exercise, as throughout your coding career you will\n",
    "continually need to reference documentation."
   ]
  },
  {
   "cell_type": "code",
   "execution_count": null,
   "metadata": {
    "collapsed": true
   },
   "outputs": [],
   "source": []
  }
 ],
 "metadata": {
  "anaconda-cloud": {},
  "kernelspec": {
   "display_name": "Python 3",
   "language": "python",
   "name": "python3"
  },
  "language_info": {
   "codemirror_mode": {
    "name": "ipython",
    "version": 3
   },
   "file_extension": ".py",
   "mimetype": "text/x-python",
   "name": "python",
   "nbconvert_exporter": "python",
   "pygments_lexer": "ipython3",
   "version": "3.8.5"
  }
 },
 "nbformat": 4,
 "nbformat_minor": 2
}
